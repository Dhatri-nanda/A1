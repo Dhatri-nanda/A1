{
  "nbformat": 4,
  "nbformat_minor": 0,
  "metadata": {
    "colab": {
      "name": "Untitled59.ipynb",
      "provenance": [],
      "authorship_tag": "ABX9TyNf7cDqqAVpMjASjESFRhdv",
      "include_colab_link": true
    },
    "kernelspec": {
      "name": "python3",
      "display_name": "Python 3"
    },
    "language_info": {
      "name": "python"
    }
  },
  "cells": [
    {
      "cell_type": "markdown",
      "metadata": {
        "id": "view-in-github",
        "colab_type": "text"
      },
      "source": [
        "<a href=\"https://colab.research.google.com/github/Dhatri-nanda/A1/blob/main/Matrix_Tutorial_9.ipynb\" target=\"_parent\"><img src=\"https://colab.research.google.com/assets/colab-badge.svg\" alt=\"Open In Colab\"/></a>"
      ]
    },
    {
      "cell_type": "code",
      "metadata": {
        "id": "5nGjkP5afDgG"
      },
      "source": [
        "import numpy as np\n",
        "import matplotlib.pyplot as plt\n",
        "from numpy import linalg as lg"
      ],
      "execution_count": 10,
      "outputs": []
    },
    {
      "cell_type": "code",
      "metadata": {
        "colab": {
          "base_uri": "https://localhost:8080/"
        },
        "id": "PwsQSmBafF1c",
        "outputId": "ff48bf14-6cba-4af1-8a58-0973006e4e94"
      },
      "source": [
        "#Loading dataset from the given website ehile removing the first column\n",
        "info = np.loadtxt(\"http://web.stanford.edu/class/bios221/data/PaintedTurtles.txt\",delimiter=' ', skiprows=1, usecols=(1,2,3) , dtype=int)\n",
        "print(info)"
      ],
      "execution_count": 11,
      "outputs": [
        {
          "output_type": "stream",
          "name": "stdout",
          "text": [
            "[[ 98  81  38]\n",
            " [103  84  38]\n",
            " [103  86  42]\n",
            " [105  86  40]\n",
            " [109  88  44]\n",
            " [123  92  50]\n",
            " [123  95  46]\n",
            " [133  99  51]\n",
            " [133 102  51]\n",
            " [133 102  51]\n",
            " [134 100  48]\n",
            " [136 102  49]\n",
            " [137  98  51]\n",
            " [138  99  51]\n",
            " [141 105  53]\n",
            " [147 108  57]\n",
            " [149 107  55]\n",
            " [153 107  56]\n",
            " [155 115  63]\n",
            " [155 117  60]\n",
            " [158 115  62]\n",
            " [159 118  63]\n",
            " [162 124  61]\n",
            " [177 132  67]\n",
            " [ 93  74  37]\n",
            " [ 94  78  35]\n",
            " [ 96  80  35]\n",
            " [101  84  39]\n",
            " [102  85  38]\n",
            " [103  81  37]\n",
            " [104  83  39]\n",
            " [106  83  39]\n",
            " [107  82  38]\n",
            " [112  89  40]\n",
            " [113  88  40]\n",
            " [114  86  40]\n",
            " [116  90  43]\n",
            " [117  90  41]\n",
            " [117  91  41]\n",
            " [119  93  41]\n",
            " [120  89  40]\n",
            " [120  93  44]\n",
            " [121  95  42]\n",
            " [125  93  45]\n",
            " [127  96  45]\n",
            " [128  95  45]\n",
            " [131  95  46]\n",
            " [135 106  47]]\n"
          ]
        }
      ]
    },
    {
      "cell_type": "code",
      "metadata": {
        "colab": {
          "base_uri": "https://localhost:8080/"
        },
        "id": "0JdWQImoUlE2",
        "outputId": "5b5108c7-7774-4cc7-c20a-5706b9fac254"
      },
      "source": [
        "#Finding mean and standard deviation and normalising the dataset\n",
        "Info = np.zeros((48,3))\n",
        "\n",
        "info_1 = info[:,0]\n",
        "info_2 = info[:,1]\n",
        "info_3 = info[:,2]\n",
        "\n",
        "mean_1 = np.sum(info_1)/(info_1.shape)\n",
        "Info[:,0] = (info_1 - mean_1)/np.std(info_1)\n",
        "\n",
        "\n",
        "mean_2 = np.sum(info_2)/(info_2.shape)\n",
        "Info[:,1] = (info_2 - mean_2)/np.std(info_2)\n",
        "\n",
        "\n",
        "mean_3 = np.sum(info_3)/(info_3.shape)\n",
        "Info[:,2] = (info_3 - mean_3)/np.std(info_3)\n",
        "\n",
        "print(Info)\n"
      ],
      "execution_count": 12,
      "outputs": [
        {
          "output_type": "stream",
          "name": "stdout",
          "text": [
            "[[-1.31678741 -1.15103099 -1.00341744]\n",
            " [-1.07008251 -0.91185572 -1.00341744]\n",
            " [-1.07008251 -0.75240554 -0.52177707]\n",
            " [-0.97140055 -0.75240554 -0.76259725]\n",
            " [-0.77403663 -0.59295536 -0.28095688]\n",
            " [-0.0832629  -0.274055    0.44150367]\n",
            " [-0.0832629  -0.03487973 -0.0401367 ]\n",
            " [ 0.4101469   0.28402063  0.56191377]\n",
            " [ 0.4101469   0.5231959   0.56191377]\n",
            " [ 0.4101469   0.5231959   0.56191377]\n",
            " [ 0.45948788  0.36374572  0.20068349]\n",
            " [ 0.55816984  0.5231959   0.32109358]\n",
            " [ 0.60751082  0.20429554  0.56191377]\n",
            " [ 0.6568518   0.28402063  0.56191377]\n",
            " [ 0.80487474  0.76237118  0.80273395]\n",
            " [ 1.10092062  1.00154645  1.28437432]\n",
            " [ 1.19960258  0.92182136  1.04355414]\n",
            " [ 1.3969665   0.92182136  1.16396423]\n",
            " [ 1.49564846  1.55962208  2.00683488]\n",
            " [ 1.49564846  1.71907226  1.6456046 ]\n",
            " [ 1.6436714   1.55962208  1.88642479]\n",
            " [ 1.69301238  1.79879735  2.00683488]\n",
            " [ 1.84103532  2.27714789  1.76601469]\n",
            " [ 2.58115002  2.91494861  2.48847525]\n",
            " [-1.56349231 -1.70910662 -1.12382753]\n",
            " [-1.51415133 -1.39020626 -1.36464772]\n",
            " [-1.41546937 -1.23075608 -1.36464772]\n",
            " [-1.16876447 -0.91185572 -0.88300735]\n",
            " [-1.11942349 -0.83213063 -1.00341744]\n",
            " [-1.07008251 -1.15103099 -1.12382753]\n",
            " [-1.02074153 -0.99158081 -0.88300735]\n",
            " [-0.92205957 -0.99158081 -0.88300735]\n",
            " [-0.87271859 -1.0713059  -1.00341744]\n",
            " [-0.62601369 -0.51323027 -0.76259725]\n",
            " [-0.57667271 -0.59295536 -0.76259725]\n",
            " [-0.52733173 -0.75240554 -0.76259725]\n",
            " [-0.42864976 -0.43350518 -0.40136698]\n",
            " [-0.37930878 -0.43350518 -0.64218716]\n",
            " [-0.37930878 -0.35378009 -0.64218716]\n",
            " [-0.28062682 -0.19432991 -0.64218716]\n",
            " [-0.23128584 -0.51323027 -0.76259725]\n",
            " [-0.23128584 -0.19432991 -0.28095688]\n",
            " [-0.18194486 -0.03487973 -0.52177707]\n",
            " [ 0.01541906 -0.19432991 -0.16054679]\n",
            " [ 0.11410102  0.04484536 -0.16054679]\n",
            " [ 0.163442   -0.03487973 -0.16054679]\n",
            " [ 0.31146494 -0.03487973 -0.0401367 ]\n",
            " [ 0.50882886  0.84209627  0.0802734 ]]\n"
          ]
        }
      ]
    },
    {
      "cell_type": "code",
      "metadata": {
        "colab": {
          "base_uri": "https://localhost:8080/"
        },
        "id": "3u8nr6FNWDIa",
        "outputId": "025f5891-3fd5-46da-c134-7eadade171b7"
      },
      "source": [
        "#The covariance matrix\n",
        "covar = np.zeros((3,3))\n",
        "for rows in Info:\n",
        "    rows_t = np.transpose(rows)\n",
        "    covar += np.outer(rows_t,rows)\n",
        "covar = covar/(Info.shape[0]) \n",
        "print(covar)"
      ],
      "execution_count": 13,
      "outputs": [
        {
          "output_type": "stream",
          "name": "stdout",
          "text": [
            "[[1.         0.97831162 0.96469455]\n",
            " [0.97831162 1.         0.96057053]\n",
            " [0.96469455 0.96057053 1.        ]]\n"
          ]
        }
      ]
    },
    {
      "cell_type": "code",
      "metadata": {
        "colab": {
          "base_uri": "https://localhost:8080/"
        },
        "id": "PNdfBDEmXdsJ",
        "outputId": "c646f29b-4ae3-4bc6-82a5-f34a349de3dd"
      },
      "source": [
        "#Finding the eigen values and eigen vector of the covariant matrix\n",
        "val,vec = lg.eig(covar)\n",
        "print(val)\n",
        "print(\"......\")\n",
        "print(vec)"
      ],
      "execution_count": 17,
      "outputs": [
        {
          "output_type": "stream",
          "name": "stdout",
          "text": [
            "[2.93573765 0.02141848 0.04284387]\n",
            "......\n",
            "[[-0.57879812 -0.74789704 -0.32502731]\n",
            " [-0.57798399  0.65741263 -0.48346989]\n",
            " [-0.57526276  0.09197088  0.81278171]]\n"
          ]
        }
      ]
    },
    {
      "cell_type": "code",
      "metadata": {
        "colab": {
          "base_uri": "https://localhost:8080/"
        },
        "id": "0syqODyvYE7H",
        "outputId": "af4ba4d2-7d69-42e0-f35b-11d3b973d25b"
      },
      "source": [
        "#The princial components based on the above calculated eigen vector matrix\n",
        "p_1 = vec[:,0]\n",
        "print('Principal Component 1 = \\n',p_1)\n",
        "\n",
        "p_2 = vec[:,2]\n",
        "print('\\n Principal Component 2 = \\n',p_2)\n",
        "\n",
        "p_3 = vec[:,1]\n",
        "print('\\n Principal Component 2 = \\n',p_3)"
      ],
      "execution_count": 20,
      "outputs": [
        {
          "output_type": "stream",
          "name": "stdout",
          "text": [
            "Principal Component 1 = \n",
            " [-0.57879812 -0.57798399 -0.57526276]\n",
            "\n",
            " Principal Component 2 = \n",
            " [-0.32502731 -0.48346989  0.81278171]\n",
            "\n",
            " Principal Component 2 = \n",
            " [-0.74789704  0.65741263  0.09197088]\n"
          ]
        }
      ]
    },
    {
      "cell_type": "code",
      "metadata": {
        "colab": {
          "base_uri": "https://localhost:8080/"
        },
        "id": "ysKX1ORJYfkY",
        "outputId": "2a7f2281-a036-4e38-e925-dccb7e3d0c84"
      },
      "source": [
        "#Finding variances of principal components\n",
        "\n",
        "p1_t = np.transpose(p_1)\n",
        "p2_t = np.transpose(p_2)\n",
        "p3_t = np.transpose(p_3)\n",
        "\n",
        "var_1 = p1_t@(covar@p_1)\n",
        "var_2 = p2_t@(covar@p_2)\n",
        "var_3 = p3_t@(covar@p_3)\n",
        "\n",
        "print('Variance captured by principal component 1 =',var_1)\n",
        "print('\\nVariance captured by principal component 2 =',var_2)\n",
        "print('\\nVariance captured by principal component 3 =',var_3)\n",
        "\n",
        "print('\\nPercentage of variance captured by PC1 = ',val[0]*100/np.sum(val))\n",
        "print('\\nPercentage of variance captured by PC2 = ',val[2]*100/np.sum(val))\n",
        "print('\\nPercentage of variance captured by PC3 = ',val[1]*100/np.sum(val))\n"
      ],
      "execution_count": 26,
      "outputs": [
        {
          "output_type": "stream",
          "name": "stdout",
          "text": [
            "Variance captured by principal component 1 = 2.9357376530766643\n",
            "\n",
            "Variance captured by principal component 2 = 0.04284386617352037\n",
            "\n",
            "Variance captured by principal component 3 = 0.02141848074981464\n",
            "\n",
            "Percentage of variance captured by PC1 =  97.85792176922217\n",
            "\n",
            "Percentage of variance captured by PC2 =  1.4281288724506798\n",
            "\n",
            "Percentage of variance captured by PC3 =  0.7139493583271532\n"
          ]
        }
      ]
    },
    {
      "cell_type": "code",
      "metadata": {
        "colab": {
          "base_uri": "https://localhost:8080/"
        },
        "id": "xoeLYqPoaw-J",
        "outputId": "48eb8ba7-dcf4-4fb3-a3d6-c9fcfd8f5841"
      },
      "source": [
        "#The combined variance of variance 1 and variance 2\n",
        "var = var_1 + var_2\n",
        "print(var)\n",
        "#Percentage of combined variance by the first two principal components\n",
        "print((val[0]+val[2])*100/np.sum(val))"
      ],
      "execution_count": 27,
      "outputs": [
        {
          "output_type": "stream",
          "name": "stdout",
          "text": [
            "2.9785815192501848\n",
            "99.28605064167284\n"
          ]
        }
      ]
    },
    {
      "cell_type": "code",
      "metadata": {
        "colab": {
          "base_uri": "https://localhost:8080/"
        },
        "id": "JqHt3ZRfbGse",
        "outputId": "654ce4a7-258f-42a7-d322-4e1dc034c117"
      },
      "source": [
        "A = np.zeros((3,2))\n",
        "A[:,0] = p_1\n",
        "A[:,1] = p_2\n",
        "Info_mod = []\n",
        "for rows in Info:\n",
        "    Info_mod.append([(np.transpose(A)@rows)[0],(np.transpose(A)@rows)[1]])\n",
        "Info_Mod = np.transpose(X_modified)    \n",
        "print(Info_Mod)    "
      ],
      "execution_count": 37,
      "outputs": [
        {
          "output_type": "stream",
          "name": "stdout",
          "text": [
            "[[ 2.00466025e+00  1.72362844e+00  1.35439901e+00  1.43581697e+00\n",
            "   9.52353680e-01 -4.73888072e-02  9.14414833e-02 -7.24799696e-01\n",
            "  -8.63039174e-01 -8.63039174e-01 -5.91635662e-01 -8.10179689e-01\n",
            "  -7.92953735e-01 -8.67592028e-01 -1.36828127e+00 -1.95494131e+00\n",
            "  -1.82744354e+00 -2.01094484e+00 -2.92157248e+00 -2.80592980e+00\n",
            "  -2.93798044e+00 -3.17404582e+00 -3.39766529e+00 -4.61028555e+00\n",
            "   2.53927880e+00  2.46493592e+00  2.31565933e+00  1.71147793e+00\n",
            "   1.70610708e+00  1.93113536e+00  1.67188235e+00  1.61476542e+00\n",
            "   1.70155422e+00  1.09766822e+00  1.11518958e+00  1.17879077e+00\n",
            "   7.29552205e-01  8.39528623e-01  7.93448797e-01  6.44172212e-01\n",
            "   8.69200492e-01  4.07811419e-01  4.25628185e-01  1.95751645e-01\n",
            "   3.95233855e-04  1.79165935e-02 -1.37026248e-01 -8.27405642e-01]\n",
            " [ 1.68921347e-01 -2.68985249e-02  2.87480600e-01  5.96720252e-02\n",
            "   3.09902486e-01  5.18406169e-01  1.13036416e-02  1.86088867e-01\n",
            "   7.04548258e-02  7.04548258e-02 -1.62094344e-01 -1.73390916e-01\n",
            "   1.60484883e-01  1.05903037e-01  2.22576991e-02  2.01869148e-01\n",
            "   1.26052528e-02  4.63237101e-02  3.90961785e-01  2.02710601e-02\n",
            "   2.44983166e-01  2.11179080e-01 -2.63934744e-01 -2.25646949e-01\n",
            "   4.21052818e-01  5.51026875e-02 -5.40610055e-02  1.03042929e-01\n",
            "  -4.94060393e-02 -9.13160527e-03  9.34761109e-02  6.14017788e-02\n",
            "  -1.39578284e-02 -1.68222178e-01 -1.45714664e-01 -8.46624694e-02\n",
            "   2.26858415e-02 -1.89085568e-01 -2.27630248e-01 -3.36793941e-01\n",
            "  -2.96519507e-01 -5.92297425e-02 -3.48090512e-01 -4.15484513e-02\n",
            "  -1.89256825e-01 -1.66749310e-01 -1.16993687e-01 -5.07266714e-01]]\n"
          ]
        }
      ]
    },
    {
      "cell_type": "code",
      "metadata": {
        "colab": {
          "base_uri": "https://localhost:8080/",
          "height": 313
        },
        "id": "h7Nk8ShWbVDX",
        "outputId": "a13328ac-c7bb-4ccf-994a-4034c6469979"
      },
      "source": [
        "#Plotting\n",
        "plt.scatter(Info_Mod[0], Info_Mod[1], c =\"red\")\n",
        "plt.title(\"Scattered representation of dimensions\")\n",
        "plt.xlabel(\"Dimension_1\")\n",
        "plt.ylabel(\"Dimension_1\")"
      ],
      "execution_count": 39,
      "outputs": [
        {
          "output_type": "execute_result",
          "data": {
            "text/plain": [
              "Text(0, 0.5, 'Dimension_1')"
            ]
          },
          "metadata": {},
          "execution_count": 39
        },
        {
          "output_type": "display_data",
          "data": {
            "image/png": "[encoded data removed]",
            "text/plain": [
              "<Figure size 432x288 with 1 Axes>"
            ]
          },
          "metadata": {
            "needs_background": "light"
          }
        }
      ]
    }
  ]
}